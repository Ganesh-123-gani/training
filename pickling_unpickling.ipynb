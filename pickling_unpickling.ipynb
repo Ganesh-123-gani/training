{
 "cells": [
  {
   "cell_type": "code",
   "execution_count": 166,
   "metadata": {},
   "outputs": [],
   "source": [
    "import pickle\n",
    "import pandas as pd \n",
    "import pandas as np \n",
    "import csv\n"
   ]
  },
  {
   "cell_type": "code",
   "execution_count": 167,
   "metadata": {},
   "outputs": [
    {
     "name": "stdout",
     "output_type": "stream",
     "text": [
      "data successfully sent\n"
     ]
    }
   ],
   "source": [
    "class student_data:\n",
    "    def __init__(self,name,Roll,Math,Science,English,Grade,Age,Gender,Address,Phone,Email):\n",
    "        self.name=name\n",
    "        self.Roll=Roll\n",
    "        self.Math=Math\n",
    "        self.Science=Science\n",
    "        self.English=English\n",
    "        self.Grade=Grade\n",
    "        self.Age=Age\n",
    "        self.Gender=Gender\n",
    "        self.Address=Address\n",
    "        self.Phone=Phone\n",
    "        self.Email=Email\n",
    "    def m1(self):\n",
    "        print(self.name)\n",
    "        print(self.Roll)\n",
    "        print(self.Math)\n",
    "        print(self.Science)\n",
    "        print(self.English)\n",
    "        print(self.Grade)\n",
    "        print(self.Age)\n",
    "        print(self.Gender)\n",
    "        print(self.Address)\n",
    "        print(self.Phone)\n",
    "        print(self.Email)\n",
    "with open(\"pickle_data.txt\",'wb+') as f:\n",
    "    obj1=student_data('John Doe',101,85,90,88,'A',16,'Male','123 Maple St','555-1234','john.doe@example.com')\n",
    "    \n",
    "    \n",
    "    pickle.dump(obj1,f)\n",
    "    print('data successfully sent')\n",
    "\n"
   ]
  },
  {
   "cell_type": "code",
   "execution_count": 168,
   "metadata": {},
   "outputs": [
    {
     "name": "stdout",
     "output_type": "stream",
     "text": [
      "John Doe\n",
      "101\n",
      "85\n",
      "90\n",
      "88\n",
      "A\n",
      "16\n",
      "Male\n",
      "123 Maple St\n",
      "555-1234\n",
      "john.doe@example.com\n",
      "unpacking is done\n"
     ]
    }
   ],
   "source": [
    "with open('pickle_data.txt','rb') as file:\n",
    "    lo_obj1=pickle.load(file)\n",
    "    lo_obj1.m1()\n",
    "    print('unpacking is done')"
   ]
  },
  {
   "cell_type": "code",
   "execution_count": 169,
   "metadata": {},
   "outputs": [
    {
     "name": "stdout",
     "output_type": "stream",
     "text": [
      "data successfully sent\n"
     ]
    }
   ],
   "source": [
    "with open('pickle_data_copy','wb') as f:\n",
    "    pickle.dump(lo_obj1,f)\n",
    "    print('data successfully sent')"
   ]
  },
  {
   "cell_type": "code",
   "execution_count": 170,
   "metadata": {},
   "outputs": [
    {
     "name": "stdout",
     "output_type": "stream",
     "text": [
      "csv file created\n"
     ]
    }
   ],
   "source": [
    "with open ('student_data.csv','w+',newline='') as f:\n",
    "    s=csv.writer(f)\n",
    "    s.writerow(['name','Roll','Math','Science','English','Grade','Age','Gender','Address','Phone','Email'])\n",
    "    s.writerow(['John Doe',101,85,90,88,'A',16,'Male','123 Maple St','555-1234','john.doe@example.com'])\n",
    "    print('csv file created')"
   ]
  },
  {
   "cell_type": "code",
   "execution_count": 171,
   "metadata": {},
   "outputs": [
    {
     "name": "stdout",
     "output_type": "stream",
     "text": [
      "data transferred successfully\n"
     ]
    }
   ],
   "source": [
    "df=pd.read_csv('student_data.txt',delimiter=',')\n",
    "with open('data_new.csv','w+',newline='') as file1:\n",
    "    s1=csv.writer(file1)\n",
    "    s1.writerow(['Name','Roll Number','Math','Science','English','Attendance (%)','Grade','Age','Gender','Address','Phone Number','Email'])\n",
    "    for index,y in df.iterrows():\n",
    "        \n",
    "        s1.writerow(y)\n",
    "    print('data transferred successfully')\n"
   ]
  }
 ],
 "metadata": {
  "kernelspec": {
   "display_name": "Python 3",
   "language": "python",
   "name": "python3"
  },
  "language_info": {
   "codemirror_mode": {
    "name": "ipython",
    "version": 3
   },
   "file_extension": ".py",
   "mimetype": "text/x-python",
   "name": "python",
   "nbconvert_exporter": "python",
   "pygments_lexer": "ipython3",
   "version": "3.11.3"
  }
 },
 "nbformat": 4,
 "nbformat_minor": 2
}
