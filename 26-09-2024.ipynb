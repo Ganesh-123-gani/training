{
 "cells": [
  {
   "cell_type": "code",
   "execution_count": 2,
   "metadata": {},
   "outputs": [],
   "source": [
    "import pandas as pd \n",
    "import numpy as np \n"
   ]
  },
  {
   "cell_type": "code",
   "execution_count": 53,
   "metadata": {},
   "outputs": [
    {
     "name": "stdout",
     "output_type": "stream",
     "text": [
      "     name  age gender       contact           address\n",
      "0  ganesh   23   male  7.386351e+09  ramachandrapalem\n",
      "1    ravi   22   male  5.454445e+09               NaN\n",
      "2    raju   21    NaN           NaN             vizag\n"
     ]
    }
   ],
   "source": [
    "df = pd.read_csv('training.txt')\n",
    "print(df)"
   ]
  },
  {
   "cell_type": "code",
   "execution_count": 57,
   "metadata": {},
   "outputs": [
    {
     "name": "stdout",
     "output_type": "stream",
     "text": [
      "Row 1 address is required\n",
      "Row 2 gender is required\n",
      "Row 2 contact is required\n"
     ]
    }
   ],
   "source": [
    "for index, row in df.iterrows():\n",
    "    if pd.isnull(row['name']):\n",
    "        print(f\" row {index}  Name is required\")\n",
    "    if pd.isnull(row['age']):\n",
    "        print(f\"Row {index} Age is required\")\n",
    "    if pd.isnull(row['gender']):\n",
    "        print(f\"Row {index} gender is required\")\n",
    "    if pd.isnull(row['contact']):\n",
    "        print(f\"Row {index} contact is required\")\n",
    "    if pd.isnull(row['address']):\n",
    "        print(f\"Row {index} address is required\")\n"
   ]
  }
 ],
 "metadata": {
  "kernelspec": {
   "display_name": "Python 3",
   "language": "python",
   "name": "python3"
  },
  "language_info": {
   "codemirror_mode": {
    "name": "ipython",
    "version": 3
   },
   "file_extension": ".py",
   "mimetype": "text/x-python",
   "name": "python",
   "nbconvert_exporter": "python",
   "pygments_lexer": "ipython3",
   "version": "3.11.3"
  }
 },
 "nbformat": 4,
 "nbformat_minor": 2
}
